{
  "nbformat": 4,
  "nbformat_minor": 0,
  "metadata": {
    "colab": {
      "provenance": [],
      "authorship_tag": "ABX9TyMG7RZcemn3FAlYwyQM0Bsr",
      "include_colab_link": true
    },
    "kernelspec": {
      "name": "python3",
      "display_name": "Python 3"
    },
    "language_info": {
      "name": "python"
    }
  },
  "cells": [
    {
      "cell_type": "markdown",
      "metadata": {
        "id": "view-in-github",
        "colab_type": "text"
      },
      "source": [
        "<a href=\"https://colab.research.google.com/github/Junple301/MATH/blob/main/%EC%9D%B4%EC%82%B0%EC%88%98%ED%95%99_5%EC%A3%BC%EC%B0%A8ipynb.ipynb\" target=\"_parent\"><img src=\"https://colab.research.google.com/assets/colab-badge.svg\" alt=\"Open In Colab\"/></a>"
      ]
    },
    {
      "cell_type": "code",
      "execution_count": null,
      "metadata": {
        "id": "ck_AvGeUyTJD"
      },
      "outputs": [],
      "source": [
        "import matplotlib.pyplot as plt\n",
        "import numpy as np\n",
        "\n",
        "def f(x):\n",
        "  return 2*x + 1\n",
        "\n",
        "x = np.linspace(-10, 10, 100)\n",
        "y = f(x)\n",
        "\n",
        "plt.plot(x, y, label='f(x) = 2x +1')\n",
        "plt.xlabel('x')\n",
        "plt.ylabel('f(x)')\n",
        "plt.title('Example of function graph')\n",
        "plt.legend()\n",
        "plt.grid(True)\n",
        "plt.show()\n",
        "\n",
        "def is_injective(f, domain) :\n",
        "  image = set()\n",
        "  for x in domain:\n",
        "    fx = f(x)\n",
        "    if fx in image:\n",
        "      return False\n",
        "    image.add(fx)\n",
        "  return True\n",
        "\n",
        "domain = range(-10, 11)\n",
        "print(\"Is it injective func?\", is_injective(f, domain))\n",
        "\n",
        "\n",
        "def inverse_f(y):\n",
        "  return (y-1) / 2\n",
        "\n",
        "y_values = np.linspace(-10, 10, 100)\n",
        "x_values = inverse_f(y_values)\n",
        "\n",
        "plt.plot(y_values, x_values, label='Inverse func f^{-1}(y) = (y-1)/2', color = 'red')\n",
        "plt.xlabel('y')\n",
        "plt.ylabel('f^{-1}(y)')\n",
        "plt.title(Inverse func. graph)\n",
        "plt.legend()\n",
        "plt.grid(True)\n",
        "plt.show()"
      ]
    }
  ]
}